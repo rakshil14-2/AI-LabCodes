{
 "cells": [
  {
   "cell_type": "markdown",
   "id": "1154aada",
   "metadata": {},
   "source": [
    "# Minimax Algorithm(Tic-Tac-Toe)"
   ]
  },
  {
   "cell_type": "markdown",
   "id": "c2773afc",
   "metadata": {},
   "source": [
    "###### Machine is the max player and human is the min player\n"
   ]
  },
  {
   "cell_type": "code",
   "execution_count": null,
   "id": "2c6772ae",
   "metadata": {},
   "outputs": [],
   "source": []
  },
  {
   "cell_type": "code",
   "execution_count": null,
   "id": "85e99488",
   "metadata": {},
   "outputs": [],
   "source": [
    "from collections import defaultdict \n",
    "\n",
    "machine, human = 'x','o' # here machine move is 'x' and human move = 'o'"
   ]
  },
  {
   "cell_type": "code",
   "execution_count": null,
   "id": "f198eee8",
   "metadata": {},
   "outputs": [],
   "source": [
    "pip install collection"
   ]
  },
  {
   "cell_type": "code",
   "execution_count": null,
   "id": "9b95e37f",
   "metadata": {},
   "outputs": [],
   "source": [
    "print(collection)"
   ]
  },
  {
   "cell_type": "code",
   "execution_count": null,
   "id": "25bbe31b",
   "metadata": {},
   "outputs": [],
   "source": [
    "\n",
    "def evaluate(board):\n",
    "   \n",
    "    \n",
    " \n",
    "    # Checking every coulumn\n",
    "    for col in range(3) :\n",
    "      \n",
    "        if (board[0][col] == board[1][col] and board[1][col] == board[2][col]) :\n",
    "         \n",
    "            if (board[0][col] == machine) :\n",
    "                return 1\n",
    "            elif (board[0][col] == human) :\n",
    "                return -1\n",
    "    \n",
    "    # checking every row\n",
    "    for row in range(3) :    \n",
    "        if (board[row][0] == board[row][1] and board[row][1] == board[row][2]) :       \n",
    "            if (board[row][0] == machine) :\n",
    "                return 1\n",
    "            elif (board[row][0] == human) :\n",
    "                return -1\n",
    " \n",
    "    # Checking the diagonals\n",
    "    if (board[0][0] == board[1][1] and board[1][1] == board[2][2]) :\n",
    "     \n",
    "        if (board[0][0] == machine) :\n",
    "            return 1\n",
    "        elif (board[0][0] == human) :\n",
    "            return -1\n",
    " \n",
    "    if (board[0][2] == board[1][1] and board[1][1] == board[2][0]) :\n",
    "     \n",
    "        if (board[0][2] == machine) :\n",
    "            return 1\n",
    "        elif (board[0][2] == human) :\n",
    "            return -1\n",
    " \n",
    "    # if the board has no winning positions, return 0\n",
    "    return 0"
   ]
  },
  {
   "cell_type": "code",
   "execution_count": null,
   "id": "b5da76f7",
   "metadata": {},
   "outputs": [],
   "source": [
    "def check(board) :\n",
    " \n",
    "    for i in range(3) :\n",
    "        for j in range(3) :\n",
    "            if (board[i][j] == '_') :\n",
    "                return True\n",
    "    return False"
   ]
  },
  {
   "cell_type": "code",
   "execution_count": null,
   "id": "dfa705ba",
   "metadata": {},
   "outputs": [],
   "source": [
    "def minimax(board, depth, isMachine) :\n",
    "\n",
    "    # isMachine tells if it's machines trun or human's turn\n",
    "    \n",
    "    score = evaluate(board)\n",
    "\n",
    "    # states are used to keep track of the number of visited states\n",
    "    states[tuple(map(tuple, board))] += 1\n",
    "\n",
    "    # if machine has won the game\n",
    "    if (score == 1) :\n",
    "        return score\n",
    " \n",
    "    # if human has won the game\n",
    "    if (score == -1) :\n",
    "        return score\n",
    " \n",
    "    # if there are no empty space is board, means none of the player can move now, and the match is drwan\n",
    "    if (check(board) == False) :\n",
    "        return 0\n",
    " \n",
    "    # If machine's turn (MAX)\n",
    "    if (isMachine) :    \n",
    "        best = -1000\n",
    " \n",
    "        # traversing all the cells\n",
    "\n",
    "        for i in range(3) :        \n",
    "            for j in range(3) :\n",
    "              \n",
    "                # Check if cell is empty\n",
    "                if (board[i][j]=='_') :\n",
    "                 \n",
    "                    # machines playes 'x' on the board\n",
    "                    board[i][j] = machine\n",
    " \n",
    "                    # call the minimax_function recursively to find the best move possible from a given blank space\n",
    "                    best = max( best, minimax(board, depth + 1, not isMachine) )\n",
    " \n",
    "                    # Undo the move and repeat for other blanks\n",
    "                    board[i][j] = '_'\n",
    "        return best\n",
    " \n",
    "    # If human's trun (MIN)\n",
    "    else :\n",
    "        best = 1000\n",
    " \n",
    "        # traversing all the cells\n",
    "\n",
    "        for i in range(3) :        \n",
    "            for j in range(3) :\n",
    "              \n",
    "                # Check if cell is empty\n",
    "                if (board[i][j] == '_') :\n",
    "                 \n",
    "                    # Make the move\n",
    "                    board[i][j] = human\n",
    " \n",
    "                    # call the minimax_function recursively to find the best move possible from a given blank space\n",
    "                    best = min(best, minimax(board, depth + 1, not isMachine))\n",
    " \n",
    "                    # Undo the move\n",
    "                    board[i][j] = '_'\n",
    "        return best"
   ]
  },
  {
   "cell_type": "code",
   "execution_count": null,
   "id": "54d8fdf3",
   "metadata": {},
   "outputs": [],
   "source": [
    "\n",
    "def find_best_move(board):\n",
    "    best_val = -1000\n",
    "    best_move = (-1, -1)\n",
    " \n",
    "    # Traverse all cells, evaluate minimax function for all empty cells. And return the cell with optimal value.\n",
    "\n",
    "    for i in range(3) :    \n",
    "        for j in range(3) :\n",
    "         \n",
    "            # Check if cell is empty\n",
    "            if (board[i][j] == '_') :\n",
    "             \n",
    "                # machine makes a move\n",
    "                board[i][j] = machine\n",
    " \n",
    "                # compute \n",
    "                move_val = minimax(board, 0, False)\n",
    " \n",
    "                # Undo the move\n",
    "                board[i][j] = '_'\n",
    " \n",
    "                # If the value of the current move is\n",
    "                # more than the best value, then update\n",
    "                # best/\n",
    "                if (move_val > best_val) :               \n",
    "                    best_move = (i, j)\n",
    "                    bestVal = best_val\n",
    " \n",
    "    return best_move"
   ]
  },
  {
   "cell_type": "code",
   "execution_count": null,
   "id": "2e066856",
   "metadata": {},
   "outputs": [],
   "source": [
    "states = defaultdict(int)\n",
    "board = [\n",
    "    [ 'x', 'o', '_' ],\n",
    "    [ '_', 'x', 'o' ],\n",
    "    [ '_', '_', 'o' ]\n",
    "]\n",
    "\n",
    "best_move = find_best_move(board)\n",
    "print(best_move)"
   ]
  },
  {
   "cell_type": "code",
   "execution_count": null,
   "id": "ad7f3c37",
   "metadata": {},
   "outputs": [],
   "source": [
    "print(\"Total number of different states explored during finding of best move for a state = \",len(states.keys()))"
   ]
  },
  {
   "cell_type": "code",
   "execution_count": null,
   "id": "0b9af775",
   "metadata": {},
   "outputs": [],
   "source": [
    "print(\"different states\")\n",
    "print()\n",
    "for key,val in states.items():\n",
    "    print(key)"
   ]
  },
  {
   "cell_type": "code",
   "execution_count": null,
   "id": "15ca8fac",
   "metadata": {},
   "outputs": [],
   "source": []
  }
 ],
 "metadata": {
  "kernelspec": {
   "display_name": "Python 3 (ipykernel)",
   "language": "python",
   "name": "python3"
  },
  "language_info": {
   "codemirror_mode": {
    "name": "ipython",
    "version": 3
   },
   "file_extension": ".py",
   "mimetype": "text/x-python",
   "name": "python",
   "nbconvert_exporter": "python",
   "pygments_lexer": "ipython3",
   "version": "3.9.7"
  }
 },
 "nbformat": 4,
 "nbformat_minor": 5
}
